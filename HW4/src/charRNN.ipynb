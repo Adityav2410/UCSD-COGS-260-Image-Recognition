{
 "cells": [
  {
   "cell_type": "markdown",
   "metadata": {},
   "source": [
    "### Import Libraries"
   ]
  },
  {
   "cell_type": "code",
   "execution_count": null,
   "metadata": {},
   "outputs": [],
   "source": [
    "!python --version"
   ]
  },
  {
   "cell_type": "code",
   "execution_count": 1,
   "metadata": {},
   "outputs": [
    {
     "name": "stderr",
     "output_type": "stream",
     "text": [
      "Using TensorFlow backend.\n"
     ]
    }
   ],
   "source": [
    "import numpy as np\n",
    "from charRNN_utils import parseFile,buildModel, generateSequence,plotGraph\n",
    "import random"
   ]
  },
  {
   "cell_type": "markdown",
   "metadata": {},
   "source": [
    "### Basic Setting - Configuration"
   ]
  },
  {
   "cell_type": "code",
   "execution_count": 2,
   "metadata": {
    "collapsed": true
   },
   "outputs": [],
   "source": [
    "num_prevChar = 5\n",
    "datapath = '/home/adityav/UCSD/Spring17/COGS260_ImageRecognition/HW4/Data/tinyshakespeare.txt'"
   ]
  },
  {
   "cell_type": "markdown",
   "metadata": {},
   "source": [
    "### Parse data"
   ]
  },
  {
   "cell_type": "code",
   "execution_count": 3,
   "metadata": {
    "collapsed": true
   },
   "outputs": [],
   "source": [
    "[trainData,testData, vocab, vocabLength, seedList] = parseFile(datapath,num_prevChar, batchIndex = 1)"
   ]
  },
  {
   "cell_type": "markdown",
   "metadata": {},
   "source": [
    "### Build network"
   ]
  },
  {
   "cell_type": "code",
   "execution_count": 4,
   "metadata": {},
   "outputs": [
    {
     "name": "stdout",
     "output_type": "stream",
     "text": [
      "\n",
      "Building model.......................................\n",
      "Model Build.\n",
      "_________________________________________________________________\n",
      "Layer (type)                 Output Shape              Param #   \n",
      "=================================================================\n",
      "lstm_1 (LSTM)                (None, 256)               329728    \n",
      "_________________________________________________________________\n",
      "dropout_1 (Dropout)          (None, 256)               0         \n",
      "_________________________________________________________________\n",
      "dense_1 (Dense)              (None, 65)                16705     \n",
      "=================================================================\n",
      "Total params: 346,433\n",
      "Trainable params: 346,433\n",
      "Non-trainable params: 0\n",
      "_________________________________________________________________\n"
     ]
    }
   ],
   "source": [
    "nHiddenNeuron = 256\n",
    "percentDropout = 0\n",
    "optimizerList = ['RMSprop','Adagrad']\n",
    "optimizerUsed = optimizerList[1]\n",
    "rnn_lstm = 'lstm'           # 'rnn' or 'lstm' -> depends on the type of cell we want to use in network.\n",
    "\n",
    "model = buildModel(num_prevChar ,vocabLength,\n",
    "                   nHiddenNeuron, rnn_lstm,\n",
    "                   percentDropout,optimizerUsed)"
   ]
  },
  {
   "cell_type": "markdown",
   "metadata": {},
   "source": [
    "### Train network "
   ]
  },
  {
   "cell_type": "code",
   "execution_count": 5,
   "metadata": {},
   "outputs": [
    {
     "name": "stderr",
     "output_type": "stream",
     "text": [
      "/home/adityav/.virtualenvs/cv/local/lib/python2.7/site-packages/keras/models.py:837: UserWarning: The `nb_epoch` argument in `fit` has been renamed `epochs`.\n",
      "  warnings.warn('The `nb_epoch` argument in `fit` '\n"
     ]
    },
    {
     "name": "stdout",
     "output_type": "stream",
     "text": [
      "Train on 111538 samples, validate on 27885 samples\n",
      "Epoch 1/1\n",
      "111538/111538 [==============================] - 58s - loss: 5.5005 - acc: 0.1419 - val_loss: 5.3325 - val_acc: 0.1474\n",
      "Train on 111538 samples, validate on 27885 samples\n",
      "Epoch 1/1\n",
      "111538/111538 [==============================] - 19275s - loss: 5.4437 - acc: 0.1515 - val_loss: 5.4289 - val_acc: 0.1527\n",
      "Train on 111538 samples, validate on 27885 samples\n",
      "Epoch 1/1\n",
      "111538/111538 [==============================] - 57s - loss: 5.4256 - acc: 0.1537 - val_loss: 5.4437 - val_acc: 0.1543\n",
      "Train on 111538 samples, validate on 27885 samples\n",
      "Epoch 1/1\n",
      "111538/111538 [==============================] - 55s - loss: 5.3616 - acc: 0.1555 - val_loss: 5.3883 - val_acc: 0.1552\n",
      "Train on 111538 samples, validate on 27885 samples\n",
      "Epoch 1/1\n",
      "111538/111538 [==============================] - 55s - loss: 5.4478 - acc: 0.1537 - val_loss: 5.4426 - val_acc: 0.1539\n",
      "Train on 111538 samples, validate on 27885 samples\n",
      "Epoch 1/1\n",
      "111538/111538 [==============================] - 55s - loss: 5.2151 - acc: 0.1531 - val_loss: 5.2327 - val_acc: 0.1540\n",
      "Train on 111538 samples, validate on 27885 samples\n",
      "Epoch 1/1\n",
      "111538/111538 [==============================] - 55s - loss: 5.3900 - acc: 0.1516 - val_loss: 5.3601 - val_acc: 0.1556\n",
      "Train on 111538 samples, validate on 27885 samples\n",
      "Epoch 1/1\n",
      "111538/111538 [==============================] - 57s - loss: 5.5361 - acc: 0.1500 - val_loss: 5.5779 - val_acc: 0.1524\n"
     ]
    },
    {
     "data": {
      "image/png": "[encoded data removed]",
      "text/plain": [
       "<matplotlib.figure.Figure at 0x7f1564363c90>"
      ]
     },
     "metadata": {},
     "output_type": "display_data"
    }
   ],
   "source": [
    "for batchIndex in range(8):\n",
    "    [trainData,testData, vocab, vocabLength, seedList] = parseFile(datapath,num_prevChar, batchIndex )\n",
    "    history = model.fit(trainData['x'],trainData['y_true'],\n",
    "                        batch_size=1024, nb_epoch=1,verbose=1,\n",
    "                        validation_data=( testData['x'], testData['y_true']))\n",
    "model.save_weights('charRNN_model_weights.hdf5')\n",
    "plotGraph(history, percentDropout, nHiddenNeuron, optimizerUsed)"
   ]
  },
  {
   "cell_type": "code",
   "execution_count": null,
   "metadata": {
    "collapsed": true
   },
   "outputs": [],
   "source": [
    "maxLength = 1000; \n",
    "#seedIndex = [83,19,51,27,17,19]\n",
    "count = 1\n",
    "\n",
    "fHandle = open('GeneratedShakespeare.txt','w')\n",
    "\n",
    "for i in range(1):\n",
    "    seedIndex = random.randint(0,len(seedList)-1)\n",
    "    seedSentence = seedList[seedIndex]\n",
    "    generateSequence(fHandle, model, num_prevChar, vocabLength, vocab,\n",
    "                     maxLength,seedSentence, count)\n",
    "    count = count+1\n",
    "\n",
    "fHandle.close()\n",
    "\n",
    "print('Generated  shakespeare File: GeneratedShakespeare.txt')"
   ]
  }
 ],
 "metadata": {
  "kernelspec": {
   "display_name": "cv",
   "language": "python",
   "name": "cv"
  },
  "language_info": {
   "codemirror_mode": {
    "name": "ipython",
    "version": 2
   },
   "file_extension": ".py",
   "mimetype": "text/x-python",
   "name": "python",
   "nbconvert_exporter": "python",
   "pygments_lexer": "ipython2",
   "version": "2.7.12"
  }
 },
 "nbformat": 4,
 "nbformat_minor": 2
}
