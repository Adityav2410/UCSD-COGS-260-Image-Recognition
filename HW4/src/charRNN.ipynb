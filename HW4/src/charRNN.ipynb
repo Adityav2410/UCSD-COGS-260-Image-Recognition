{
 "cells": [
  {
   "cell_type": "markdown",
   "metadata": {},
   "source": [
    "### Import Libraries"
   ]
  },
  {
   "cell_type": "code",
   "execution_count": null,
   "metadata": {},
   "outputs": [],
   "source": [
    "import numpy as np\n",
    "from charRNN_utils import parseFile,buildModel, generateSequence,plotGraph\n",
    "import random"
   ]
  },
  {
   "cell_type": "markdown",
   "metadata": {},
   "source": [
    "### Basic Setting - Configuration"
   ]
  },
  {
   "cell_type": "code",
   "execution_count": null,
   "metadata": {
    "collapsed": true
   },
   "outputs": [],
   "source": [
    "num_prevChar = 50\n",
    "datapath = '/home/adityav/UCSD/Spring17/COGS260_ImageRecognition/HW4/Data/tinyshakespeare.txt'"
   ]
  },
  {
   "cell_type": "markdown",
   "metadata": {},
   "source": [
    "### Parse data"
   ]
  },
  {
   "cell_type": "code",
   "execution_count": null,
   "metadata": {
    "collapsed": true
   },
   "outputs": [],
   "source": [
    "[trainData,testData, vocab, vocabLength, seedList] = parseFile(datapath,num_prevChar, batchIndex = 1)"
   ]
  },
  {
   "cell_type": "markdown",
   "metadata": {},
   "source": [
    "### Build network"
   ]
  },
  {
   "cell_type": "code",
   "execution_count": null,
   "metadata": {},
   "outputs": [],
   "source": [
    "nHiddenNeuron = 256\n",
    "percentDropout = 0\n",
    "optimizerList = ['RMSprop','Adagrad']\n",
    "optimizerUsed = optimizerList[1]\n",
    "rnn_lstm = 'lstm'           # 'rnn' or 'lstm' -> depends on the type of cell we want to use in network.\n",
    "\n",
    "model = buildModel(num_prevChar ,vocabLength,\n",
    "                   nHiddenNeuron, rnn_lstm,\n",
    "                   percentDropout,optimizerUsed)"
   ]
  },
  {
   "cell_type": "markdown",
   "metadata": {},
   "source": [
    "### Train network "
   ]
  },
  {
   "cell_type": "code",
   "execution_count": null,
   "metadata": {},
   "outputs": [],
   "source": [
    "for batchIndex in range(8):\n",
    "    [trainData,testData, vocab, vocabLength, seedList] = parseFile(datapath,num_prevChar, batchIndex = 1)\n",
    "    history = model.fit(trainData['x'],trainData['y_true'],\n",
    "                        batch_size=1024, nb_epoch=2,verbose=1,\n",
    "                        validation_data=( testData['x'], testData['y_true']))\n",
    "model.save_weights('charRNN_model_weights.hdf5')\n",
    "plotGraph(history, percentDropout, nHiddenNeuron, optimizerUsed)"
   ]
  },
  {
   "cell_type": "code",
   "execution_count": null,
   "metadata": {
    "collapsed": true
   },
   "outputs": [],
   "source": [
    "maxLength = 1000; \n",
    "#seedIndex = [83,19,51,27,17,19]\n",
    "count = 1\n",
    "\n",
    "fHandle = open('GeneratedShakespeare.txt','w')\n",
    "\n",
    "for i in range(1):\n",
    "    seedIndex = random.randint(0,len(seedList)-1)\n",
    "    seedSentence = seedList[seedIndex]\n",
    "    generateSequence(fHandle, model, num_prevChar, vocabLength, vocab,\n",
    "                     maxLength,seedSentence, count)\n",
    "    count = count+1\n",
    "\n",
    "fHandle.close()\n",
    "\n",
    "print('Generated  shakespeare File: GeneratedShakespeare.txt')"
   ]
  }
 ],
 "metadata": {
  "kernelspec": {
   "display_name": "cv",
   "language": "python",
   "name": "cv"
  },
  "language_info": {
   "codemirror_mode": {
    "name": "ipython",
    "version": 2
   },
   "file_extension": ".py",
   "mimetype": "text/x-python",
   "name": "python",
   "nbconvert_exporter": "python",
   "pygments_lexer": "ipython2",
   "version": "2.7.12"
  }
 },
 "nbformat": 4,
 "nbformat_minor": 2
}
