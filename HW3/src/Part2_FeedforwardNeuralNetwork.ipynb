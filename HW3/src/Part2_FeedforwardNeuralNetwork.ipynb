{
 "cells": [
  {
   "cell_type": "markdown",
   "metadata": {},
   "source": [
    "# Import Libraries"
   ]
  },
  {
   "cell_type": "code",
   "execution_count": 7,
   "metadata": {
    "collapsed": true
   },
   "outputs": [],
   "source": [
    "import tensorflow as tf\n",
    "import numpy as np\n",
    "import matplotlib.pyplot as plt\n",
    "from sklearn.metrics import confusion_matrix\n",
    "from sklearn.metrics import accuracy_score\n",
    "from sklearn.metrics import classification_report"
   ]
  },
  {
   "cell_type": "markdown",
   "metadata": {},
   "source": [
    "# Import MNIST data"
   ]
  },
  {
   "cell_type": "code",
   "execution_count": 3,
   "metadata": {
    "collapsed": false
   },
   "outputs": [
    {
     "name": "stdout",
     "output_type": "stream",
     "text": [
      "Successfully downloaded train-images-idx3-ubyte.gz 9912422 bytes.\n",
      "Extracting MNIST_data/train-images-idx3-ubyte.gz\n",
      "Successfully downloaded train-labels-idx1-ubyte.gz 28881 bytes.\n",
      "Extracting MNIST_data/train-labels-idx1-ubyte.gz\n",
      "Successfully downloaded t10k-images-idx3-ubyte.gz 1648877 bytes.\n",
      "Extracting MNIST_data/t10k-images-idx3-ubyte.gz\n",
      "Successfully downloaded t10k-labels-idx1-ubyte.gz 4542 bytes.\n",
      "Extracting MNIST_data/t10k-labels-idx1-ubyte.gz\n"
     ]
    }
   ],
   "source": [
    "from tensorflow.examples.tutorials.mnist import input_data\n",
    "mnist = input_data.read_data_sets('MNIST_data',one_hot=True)"
   ]
  },
  {
   "cell_type": "markdown",
   "metadata": {},
   "source": [
    "# Define Variables - Bias and Weights"
   ]
  },
  {
   "cell_type": "code",
   "execution_count": 8,
   "metadata": {
    "collapsed": true
   },
   "outputs": [],
   "source": [
    "def weight_variable(shape):\n",
    "    initial = tf.truncated_normal(shape,stddev=0.1)\n",
    "    return( tf.Variable(initial) )\n",
    "\n",
    "def bias_variable(shape):\n",
    "    initial = tf.constant(0.1,shape = shape)\n",
    "    return( tf.Variable(initial) )"
   ]
  },
  {
   "cell_type": "markdown",
   "metadata": {},
   "source": [
    "# Define The different Models"
   ]
  },
  {
   "cell_type": "markdown",
   "metadata": {},
   "source": [
    "# Single layer network"
   ]
  },
  {
   "cell_type": "code",
   "execution_count": 76,
   "metadata": {
    "collapsed": false
   },
   "outputs": [],
   "source": [
    "# Layer 1\n",
    "x = tf.placeholder(tf.float32,shape=[None,784])\n",
    "y = tf.placeholder(tf.float32,shape=[None,10])\n",
    "\n",
    "w1 = weight_variable([784,10])\n",
    "b1 = bias_variable([10])\n",
    "h1 = tf.matmul(x,w1) + b1\n",
    "y_ = tf.nn.softmax(h1)\n",
    "\n",
    "cross_entropy = -tf.reduce_mean(tf.reduce_sum(y * tf.log(y_),1))\n",
    "train_step = tf.train.GradientDescentOptimizer(0.5).minimize(cross_entropy)\n",
    "correct_prediction = tf.equal(tf.argmax(y_,1),tf.argmax(y,1))\n",
    "accuracy = tf.reduce_mean(tf.cast(correct_prediction,tf.float32))\n",
    "init = tf.initialize_all_variables()"
   ]
  },
  {
   "cell_type": "code",
   "execution_count": 77,
   "metadata": {
    "collapsed": true
   },
   "outputs": [
    {
     "name": "stdout",
     "output_type": "stream",
     "text": [
      "Step 0, \t Accuracy: 0.12 , \t Train Loss: 2.5335, \t Test Loss: 2.5472 \n",
      "Step 100, \t Accuracy: 0.85 , \t Train Loss: 0.5162, \t Test Loss: 0.3811 \n",
      "Step 200, \t Accuracy: 0.91 , \t Train Loss: 0.3146, \t Test Loss: 0.3357 \n",
      "Step 300, \t Accuracy: 0.92 , \t Train Loss: 0.2980, \t Test Loss: 0.3164 \n",
      "Step 400, \t Accuracy: 0.91 , \t Train Loss: 0.3293, \t Test Loss: 0.3075 \n",
      "Step 500, \t Accuracy: 0.93 , \t Train Loss: 0.2667, \t Test Loss: 0.3008 \n",
      "Step 600, \t Accuracy: 0.92 , \t Train Loss: 0.2737, \t Test Loss: 0.2957 \n",
      "Step 700, \t Accuracy: 0.90 , \t Train Loss: 0.3666, \t Test Loss: 0.2939 \n",
      "Step 800, \t Accuracy: 0.92 , \t Train Loss: 0.2525, \t Test Loss: 0.2882 \n",
      "Step 900, \t Accuracy: 0.91 , \t Train Loss: 0.3111, \t Test Loss: 0.2838 \n",
      "Step 1000, \t Accuracy: 0.93 , \t Train Loss: 0.2456, \t Test Loss: 0.2821 \n",
      "Step 1100, \t Accuracy: 0.92 , \t Train Loss: 0.2755, \t Test Loss: 0.2809 \n",
      "Step 1200, \t Accuracy: 0.93 , \t Train Loss: 0.2468, \t Test Loss: 0.2806 \n",
      "Step 1300, \t Accuracy: 0.92 , \t Train Loss: 0.2855, \t Test Loss: 0.2787 \n",
      "Step 1400, \t Accuracy: 0.91 , \t Train Loss: 0.2714, \t Test Loss: 0.2774 \n",
      "Step 1500, \t Accuracy: 0.91 , \t Train Loss: 0.3802, \t Test Loss: 0.2827 \n",
      "Step 1600, \t Accuracy: 0.92 , \t Train Loss: 0.2986, \t Test Loss: 0.2769 \n",
      "Step 1700, \t Accuracy: 0.93 , \t Train Loss: 0.3032, \t Test Loss: 0.2766 \n",
      "Step 1800, \t Accuracy: 0.95 , \t Train Loss: 0.1825, \t Test Loss: 0.2753 \n",
      "Step 1900, \t Accuracy: 0.92 , \t Train Loss: 0.2496, \t Test Loss: 0.2734 \n",
      "Step 2000, \t Accuracy: 0.94 , \t Train Loss: 0.2312, \t Test Loss: 0.2740 \n",
      "Step 2100, \t Accuracy: 0.92 , \t Train Loss: 0.2675, \t Test Loss: 0.2741 \n",
      "Step 2200, \t Accuracy: 0.92 , \t Train Loss: 0.2371, \t Test Loss: 0.2720 \n",
      "Step 2300, \t Accuracy: 0.93 , \t Train Loss: 0.2304, \t Test Loss: 0.2725 \n",
      "Step 2400, \t Accuracy: 0.90 , \t Train Loss: 0.3092, \t Test Loss: 0.2733 \n",
      "Test accuracy 0.9233\n"
     ]
    },
    {
     "data": {
      "image/png": "[encoded data removed]",
      "text/plain": [
       "<matplotlib.figure.Figure at 0x7f2d278e2ed0>"
      ]
     },
     "metadata": {},
     "output_type": "display_data"
    }
   ],
   "source": [
    "train_loss = []\n",
    "test_loss = []\n",
    "\n",
    "with tf.Session() as sess:\n",
    "    sess.run(init)\n",
    "    for i in range(2500):\n",
    "        batch = mnist.train.next_batch(512)\n",
    "        if( i%100 == 0):\n",
    "            iter_loss,train_accuracy = sess.run([cross_entropy,accuracy],feed_dict={x:batch[0], y:batch[1]})\n",
    "            train_loss.append(iter_loss)\n",
    "\n",
    "            test_batch = mnist.test.next_batch(10000)\n",
    "            iter_loss_test = cross_entropy.eval(feed_dict={x:test_batch[0],y:test_batch[1]})\n",
    "            test_loss.append(iter_loss_test)\n",
    "\n",
    "            print(\"Step %d, \\t Accuracy: %.2f , \\t Train Loss: %.4f, \\t Test Loss: %.4f \"%(i,train_accuracy,iter_loss,iter_loss_test))\n",
    "\n",
    "        train_step.run(feed_dict={x:batch[0],y:batch[1]})\n",
    "        \n",
    "    y_prediction = y_.eval(feed_dict={x:batch[0],y:batch[1]})\n",
    "    print(\"Test accuracy %g\"%accuracy.eval(feed_dict={x:mnist.test.images,y:mnist.test.labels}))\n",
    "\n",
    "legend1, = plt.plot(train_loss,label='Train loss')\n",
    "legend2, = plt.plot(test_loss,label='Test loss')\n",
    "plt.xlabel('Iterations(x100)')\n",
    "plt.ylabel('Loss')\n",
    "plt.title('CNN training: loss vs epocs')\n",
    "plt.legend()\n",
    "plt.show()\n"
   ]
  },
  {
   "cell_type": "markdown",
   "metadata": {},
   "source": [
    "# 2 Layer network"
   ]
  },
  {
   "cell_type": "code",
   "execution_count": 71,
   "metadata": {
    "collapsed": false
   },
   "outputs": [],
   "source": [
    "# Layer 1\n",
    "nHiddenNeuron = 100\n",
    "x = tf.placeholder(tf.float32,shape=[None,784])\n",
    "y = tf.placeholder(tf.float32,shape=[None,10])\n",
    "\n",
    "w1 = weight_variable([784,nHiddenNeuron])\n",
    "b1 = bias_variable([nHiddenNeuron])\n",
    "\n",
    "w2 = weight_variable([nHiddenNeuron,10])\n",
    "b2 = bias_variable([10])\n",
    "\n",
    "h1 = tf.matmul(x,w1) + b1\n",
    "z1 = tf.nn.sigmoid(h1)\n",
    "h2 = tf.matmul(z1,w2) + b2\n",
    "y_ = tf.nn.softmax(h2)\n",
    "\n",
    "cross_entropy = -tf.reduce_mean(tf.reduce_sum(y * tf.log(y_),1))\n",
    "train_step = tf.train.GradientDescentOptimizer(0.5).minimize(cross_entropy)\n",
    "correct_prediction = tf.equal(tf.argmax(y_,1),tf.argmax(y,1))\n",
    "accuracy = tf.reduce_mean(tf.cast(correct_prediction,tf.float32))\n",
    "init = tf.initialize_all_variables()"
   ]
  },
  {
   "cell_type": "code",
   "execution_count": 75,
   "metadata": {
    "collapsed": true
   },
   "outputs": [
    {
     "name": "stdout",
     "output_type": "stream",
     "text": [
      "Step 0, \t Accuracy: 0.13 , \t Train Loss: 2.3718, \t Test Loss: 2.3650 \n",
      "Step 100, \t Accuracy: 0.85 , \t Train Loss: 0.5653, \t Test Loss: 0.5350 \n",
      "Step 200, \t Accuracy: 0.89 , \t Train Loss: 0.4288, \t Test Loss: 0.3821 \n",
      "Step 300, \t Accuracy: 0.90 , \t Train Loss: 0.3322, \t Test Loss: 0.3318 \n",
      "Step 400, \t Accuracy: 0.92 , \t Train Loss: 0.3103, \t Test Loss: 0.3085 \n",
      "Step 500, \t Accuracy: 0.93 , \t Train Loss: 0.2734, \t Test Loss: 0.2889 \n",
      "Step 600, \t Accuracy: 0.93 , \t Train Loss: 0.2501, \t Test Loss: 0.2754 \n",
      "Step 700, \t Accuracy: 0.93 , \t Train Loss: 0.2531, \t Test Loss: 0.2635 \n",
      "Step 800, \t Accuracy: 0.91 , \t Train Loss: 0.2851, \t Test Loss: 0.2538 \n",
      "Step 900, \t Accuracy: 0.90 , \t Train Loss: 0.3530, \t Test Loss: 0.2442 \n",
      "Step 1000, \t Accuracy: 0.93 , \t Train Loss: 0.2146, \t Test Loss: 0.2365 \n",
      "Step 1100, \t Accuracy: 0.93 , \t Train Loss: 0.2282, \t Test Loss: 0.2293 \n",
      "Step 1200, \t Accuracy: 0.95 , \t Train Loss: 0.2076, \t Test Loss: 0.2204 \n",
      "Step 1300, \t Accuracy: 0.93 , \t Train Loss: 0.2275, \t Test Loss: 0.2156 \n",
      "Step 1400, \t Accuracy: 0.94 , \t Train Loss: 0.2026, \t Test Loss: 0.2074 \n",
      "Step 1500, \t Accuracy: 0.95 , \t Train Loss: 0.2517, \t Test Loss: 0.2012 \n",
      "Step 1600, \t Accuracy: 0.92 , \t Train Loss: 0.2944, \t Test Loss: 0.1952 \n",
      "Step 1700, \t Accuracy: 0.94 , \t Train Loss: 0.1882, \t Test Loss: 0.1909 \n",
      "Step 1800, \t Accuracy: 0.96 , \t Train Loss: 0.2028, \t Test Loss: 0.1868 \n",
      "Step 1900, \t Accuracy: 0.95 , \t Train Loss: 0.1600, \t Test Loss: 0.1818 \n",
      "Test accuracy 0.948\n"
     ]
    },
    {
     "data": {
      "image/png": "[encoded data removed]",
      "text/plain": [
       "<matplotlib.figure.Figure at 0x7f2d27a10f10>"
      ]
     },
     "metadata": {},
     "output_type": "display_data"
    }
   ],
   "source": [
    "train_loss = []\n",
    "test_loss = []\n",
    "\n",
    "with tf.Session() as sess:\n",
    "    sess.run(init)\n",
    "    for i in range(2000):\n",
    "        batch = mnist.train.next_batch(512)\n",
    "        if( i%100 == 0):\n",
    "            iter_loss,train_accuracy = sess.run([cross_entropy,accuracy],feed_dict={x:batch[0], y:batch[1]})\n",
    "            train_loss.append(iter_loss)\n",
    "\n",
    "            test_batch = mnist.test.next_batch(10000)\n",
    "            iter_loss_test = cross_entropy.eval(feed_dict={x:test_batch[0],y:test_batch[1]})\n",
    "            test_loss.append(iter_loss_test)\n",
    "\n",
    "            print(\"Step %d, \\t Accuracy: %.2f , \\t Train Loss: %.4f, \\t Test Loss: %.4f \"%(i,train_accuracy,iter_loss,iter_loss_test))\n",
    "\n",
    "        train_step.run(feed_dict={x:batch[0],y:batch[1]})\n",
    "        \n",
    "    y_prediction = y_.eval(feed_dict={x:batch[0],y:batch[1]})\n",
    "    print(\"Test accuracy %g\"%accuracy.eval(feed_dict={x:mnist.test.images,y:mnist.test.labels}))\n",
    "\n",
    "legend1, = plt.plot(train_loss,label='Train loss')\n",
    "legend2, = plt.plot(test_loss,label='Test loss')\n",
    "plt.xlabel('Iterations(x100)')\n",
    "plt.ylabel('Loss')\n",
    "plt.title('CNN training: loss vs epocs')\n",
    "plt.legend()\n",
    "plt.show()\n"
   ]
  },
  {
   "cell_type": "markdown",
   "metadata": {},
   "source": [
    "# Part 1.c Regularization with Momentum"
   ]
  },
  {
   "cell_type": "code",
   "execution_count": 84,
   "metadata": {
    "collapsed": true
   },
   "outputs": [],
   "source": [
    "# Layer 1\n",
    "regCoeff = 0.00001\n",
    "x = tf.placeholder(tf.float32,shape=[None,784])\n",
    "y = tf.placeholder(tf.float32,shape=[None,10])\n",
    "\n",
    "\n",
    "w1 = weight_variable([784,10])\n",
    "b1 = bias_variable([10])\n",
    "h1 = tf.matmul(x,w1) + b1\n",
    "y_ = tf.nn.softmax(h1)\n",
    "\n",
    "cross_entropy = -tf.reduce_mean(tf.reduce_sum(y * tf.log(y_),1)) + regCoeff * (tf.reduce_sum( tf.square(w1) ) + tf.reduce_sum( tf.square(b1)))\n",
    "train_step = tf.train.GradientDescentOptimizer(0.5).minimize(cross_entropy)\n",
    "correct_prediction = tf.equal(tf.argmax(y_,1),tf.argmax(y,1))\n",
    "accuracy = tf.reduce_mean(tf.cast(correct_prediction,tf.float32))\n",
    "init = tf.initialize_all_variables()"
   ]
  },
  {
   "cell_type": "code",
   "execution_count": 85,
   "metadata": {
    "collapsed": false,
    "scrolled": true
   },
   "outputs": [
    {
     "name": "stdout",
     "output_type": "stream",
     "text": [
      "Step 0, \t Accuracy: 0.08 , \t Train Loss: 2.6506, \t Test Loss: 2.6075 \n",
      "Step 100, \t Accuracy: 0.89 , \t Train Loss: 0.3784, \t Test Loss: 0.3802 \n",
      "Step 200, \t Accuracy: 0.91 , \t Train Loss: 0.3259, \t Test Loss: 0.3359 \n",
      "Step 300, \t Accuracy: 0.90 , \t Train Loss: 0.3432, \t Test Loss: 0.3159 \n",
      "Step 400, \t Accuracy: 0.93 , \t Train Loss: 0.2607, \t Test Loss: 0.3071 \n",
      "Step 500, \t Accuracy: 0.91 , \t Train Loss: 0.3063, \t Test Loss: 0.3001 \n",
      "Step 600, \t Accuracy: 0.90 , \t Train Loss: 0.3225, \t Test Loss: 0.2957 \n",
      "Step 700, \t Accuracy: 0.93 , \t Train Loss: 0.2650, \t Test Loss: 0.2918 \n",
      "Step 800, \t Accuracy: 0.93 , \t Train Loss: 0.2760, \t Test Loss: 0.2890 \n",
      "Step 900, \t Accuracy: 0.92 , \t Train Loss: 0.2961, \t Test Loss: 0.2859 \n",
      "Step 1000, \t Accuracy: 0.94 , \t Train Loss: 0.2477, \t Test Loss: 0.2843 \n",
      "Step 1100, \t Accuracy: 0.93 , \t Train Loss: 0.2254, \t Test Loss: 0.2837 \n",
      "Step 1200, \t Accuracy: 0.92 , \t Train Loss: 0.2734, \t Test Loss: 0.2826 \n",
      "Step 1300, \t Accuracy: 0.93 , \t Train Loss: 0.2359, \t Test Loss: 0.2813 \n",
      "Step 1400, \t Accuracy: 0.92 , \t Train Loss: 0.3170, \t Test Loss: 0.2788 \n",
      "Step 1500, \t Accuracy: 0.90 , \t Train Loss: 0.3443, \t Test Loss: 0.2809 \n",
      "Step 1600, \t Accuracy: 0.92 , \t Train Loss: 0.3108, \t Test Loss: 0.2762 \n",
      "Step 1700, \t Accuracy: 0.93 , \t Train Loss: 0.2494, \t Test Loss: 0.2774 \n",
      "Step 1800, \t Accuracy: 0.90 , \t Train Loss: 0.2827, \t Test Loss: 0.2777 \n",
      "Step 1900, \t Accuracy: 0.93 , \t Train Loss: 0.2633, \t Test Loss: 0.2765 \n",
      "Step 2000, \t Accuracy: 0.91 , \t Train Loss: 0.2927, \t Test Loss: 0.2757 \n",
      "Step 2100, \t Accuracy: 0.91 , \t Train Loss: 0.3452, \t Test Loss: 0.2738 \n",
      "Step 2200, \t Accuracy: 0.94 , \t Train Loss: 0.2785, \t Test Loss: 0.2755 \n",
      "Step 2300, \t Accuracy: 0.94 , \t Train Loss: 0.2405, \t Test Loss: 0.2761 \n",
      "Step 2400, \t Accuracy: 0.94 , \t Train Loss: 0.2446, \t Test Loss: 0.2730 \n",
      "Test accuracy 0.9234\n"
     ]
    },
    {
     "data": {
      "image/png": "[encoded data removed]",
      "text/plain": [
       "<matplotlib.figure.Figure at 0x7f2d26f2ab10>"
      ]
     },
     "metadata": {},
     "output_type": "display_data"
    }
   ],
   "source": [
    "train_loss = []\n",
    "test_loss = []\n",
    "\n",
    "with tf.Session() as sess:\n",
    "    sess.run(init)\n",
    "    for i in range(2500):\n",
    "        batch = mnist.train.next_batch(512)\n",
    "        if( i%100 == 0):\n",
    "            iter_loss,train_accuracy = sess.run([cross_entropy,accuracy],feed_dict={x:batch[0], y:batch[1]})\n",
    "            train_loss.append(iter_loss)\n",
    "\n",
    "            test_batch = mnist.test.next_batch(10000)\n",
    "            iter_loss_test = cross_entropy.eval(feed_dict={x:test_batch[0],y:test_batch[1]})\n",
    "            test_loss.append(iter_loss_test)\n",
    "\n",
    "            print(\"Step %d, \\t Accuracy: %.2f , \\t Train Loss: %.4f, \\t Test Loss: %.4f \"%(i,train_accuracy,iter_loss,iter_loss_test))\n",
    "\n",
    "        train_step.run(feed_dict={x:batch[0],y:batch[1]})\n",
    "        \n",
    "    y_prediction = y_.eval(feed_dict={x:batch[0],y:batch[1]})\n",
    "    print(\"Test accuracy %g\"%accuracy.eval(feed_dict={x:mnist.test.images,y:mnist.test.labels}))\n",
    "\n",
    "legend1, = plt.plot(train_loss,label='Train loss')\n",
    "legend2, = plt.plot(test_loss,label='Test loss')\n",
    "plt.xlabel('Iterations(x100)')\n",
    "plt.ylabel('Loss')\n",
    "plt.title('CNN training: loss vs epocs')\n",
    "plt.legend()\n",
    "plt.show()\n"
   ]
  }
 ],
 "metadata": {
  "anaconda-cloud": {},
  "kernelspec": {
   "display_name": "cv",
   "language": "python",
   "name": "cv"
  },
  "language_info": {
   "codemirror_mode": {
    "name": "ipython",
    "version": 2
   },
   "file_extension": ".py",
   "mimetype": "text/x-python",
   "name": "python",
   "nbconvert_exporter": "python",
   "pygments_lexer": "ipython2",
   "version": "2.7.12"
  }
 },
 "nbformat": 4,
 "nbformat_minor": 1
}
