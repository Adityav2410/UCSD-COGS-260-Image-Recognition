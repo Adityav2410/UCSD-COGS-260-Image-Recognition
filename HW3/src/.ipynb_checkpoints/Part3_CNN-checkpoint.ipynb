{
 "cells": [
  {
   "cell_type": "markdown",
   "metadata": {},
   "source": [
    "## Import Libraries"
   ]
  },
  {
   "cell_type": "code",
   "execution_count": 1,
   "metadata": {},
   "outputs": [],
   "source": [
    "import tensorflow as tf\n",
    "import numpy as np\n",
    "import matplotlib.pyplot as plt\n",
    "import tensorflow.contrib.slim as slim\n",
    "from sklearn.metrics import confusion_matrix\n",
    "from sklearn.metrics import accuracy_score\n",
    "from sklearn.metrics import classification_report\n",
    "from sklearn.model_selection import train_test_split\n",
    "\n",
    "from parseData import Cifar\n",
    "from cifar_model import buildFCmodel,trainModel"
   ]
  },
  {
   "cell_type": "markdown",
   "metadata": {},
   "source": [
    "## Prepare dataset handle"
   ]
  },
  {
   "cell_type": "code",
   "execution_count": 2,
   "metadata": {},
   "outputs": [
    {
     "name": "stdout",
     "output_type": "stream",
     "text": [
      "('Number of train examples: ', 40000)\n",
      "('Number of test examples: ', 10000)\n"
     ]
    }
   ],
   "source": [
    "dataPath = '/home/adityav/UCSD/Spring17/COGS260_ImageRecognition/HW3/data/cifarData/'\n",
    "cifar = Cifar(dataPath,batchSize = 10, splitRatio = 0.2)"
   ]
  },
  {
   "cell_type": "markdown",
   "metadata": {},
   "source": [
    "## Config"
   ]
  },
  {
   "cell_type": "code",
   "execution_count": 3,
   "metadata": {},
   "outputs": [],
   "source": [
    "performBN                  =   False # performBN(batch normalization) : True to perform Batch normalization else False\n",
    "\n",
    "optimizerDict = {}\n",
    "optimizerDict['type']      =  'SGD'  #  'SGD','Nesterov','RMSprop', AdaGrad\n",
    "optimizerDict['lr']        =   0.5\n",
    "optimizerDict['momentum']  =   0   # no relevance for SGD/AdaGrad`\n",
    "\n",
    "dropOut                    =   0.5"
   ]
  },
  {
   "cell_type": "markdown",
   "metadata": {},
   "source": [
    "## Build FC Model"
   ]
  },
  {
   "cell_type": "code",
   "execution_count": 4,
   "metadata": {},
   "outputs": [
    {
     "name": "stdout",
     "output_type": "stream",
     "text": [
      "('Total number of trainable parameters: ', 335818)\n",
      "Time to build the network 0.23s\n"
     ]
    }
   ],
   "source": [
    "fcModelParam = buildFCmodel(optimizerDict,performBN = False)\n",
    "#fcModelParam->dictionary\n",
    "#keys: x,y_true,y_pred,keep_prob,loss,train_step,accuracy\n"
   ]
  },
  {
   "cell_type": "code",
   "execution_count": null,
   "metadata": {},
   "outputs": [
    {
     "name": "stdout",
     "output_type": "stream",
     "text": [
      "Training Network\n",
      "Step 0, \t Accuracy: 0.09 , \t Train Loss: 200.86, \t Test Loss: 84.30 \n"
     ]
    }
   ],
   "source": [
    "nIter = 500\n",
    "with tf.Session() as sess:\n",
    "    sess.run(tf.global_variables_initializer())\n",
    "    trainModel(sess,fcModelParam,cifar,keep_prob = dropOut, iter = nIter, batchSize = 10)"
   ]
  }
 ],
 "metadata": {
  "anaconda-cloud": {},
  "kernelspec": {
   "display_name": "cv",
   "language": "python",
   "name": "cv"
  },
  "language_info": {
   "codemirror_mode": {
    "name": "ipython",
    "version": 2
   },
   "file_extension": ".py",
   "mimetype": "text/x-python",
   "name": "python",
   "nbconvert_exporter": "python",
   "pygments_lexer": "ipython2",
   "version": "2.7.12"
  }
 },
 "nbformat": 4,
 "nbformat_minor": 1
}
